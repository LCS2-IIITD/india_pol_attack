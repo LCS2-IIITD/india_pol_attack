{
 "cells": [
  {
   "cell_type": "code",
   "execution_count": null,
   "id": "c9079d0b",
   "metadata": {},
   "outputs": [],
   "source": [
    "import pandas as pd\n",
    "import numpy as np"
   ]
  },
  {
   "cell_type": "code",
   "execution_count": null,
   "id": "b9dad986",
   "metadata": {},
   "outputs": [],
   "source": [
    "david_full = pd.read_csv(\"sarah_anno_pol_only.csv\")\n",
    "sarah_col=\"New_Label\"\n",
    "print(david_full[sarah_col].value_counts())\n",
    "enc_party = {'Azad Samaj Party':'ASP','Bhagwa Kranti Sena':'BKS','Rashtriya Janta Dal':'RJD',\n",
    "             'Rashtriya Lok Dal':'RLD','Shiromani Akali Dal':'SAD','Azad Samaj Partyno-':'ASP'}\n",
    "\n",
    "david_full['Party'] = david_full['Party'].apply(lambda x: enc_party[x] if x in enc_party else x)"
   ]
  },
  {
   "cell_type": "code",
   "execution_count": null,
   "id": "b8f0d102",
   "metadata": {},
   "outputs": [],
   "source": [
    "david_full['Party'].unique()"
   ]
  },
  {
   "cell_type": "code",
   "execution_count": null,
   "id": "51f53b5c",
   "metadata": {},
   "outputs": [],
   "source": [
    "asp = david_full[david_full['Party']==\"ASP\"]\n",
    "print(asp[sarah_col].value_counts())"
   ]
  },
  {
   "cell_type": "code",
   "execution_count": null,
   "id": "1afd6d32",
   "metadata": {},
   "outputs": [],
   "source": [
    "bks = david_full[david_full['Party']==\"BKS\"]\n",
    "print(bks[sarah_col].value_counts())"
   ]
  },
  {
   "cell_type": "code",
   "execution_count": null,
   "id": "1f6996c6",
   "metadata": {},
   "outputs": [],
   "source": [
    "exp = david_full[david_full[sarah_col]==\"P\"]\n",
    "print(np.nanmean(exp[\"Retweets\"]),np.nanmean(exp[\"LikeCount\"]))"
   ]
  },
  {
   "cell_type": "code",
   "execution_count": null,
   "id": "d9453486",
   "metadata": {},
   "outputs": [],
   "source": [
    "imp = david_full[david_full[sarah_col]==\"T\"]\n",
    "print(np.nanmean(imp[\"Retweets\"]),np.nanmean(imp[\"LikeCount\"]))"
   ]
  },
  {
   "cell_type": "code",
   "execution_count": null,
   "id": "98ca87ce",
   "metadata": {},
   "outputs": [],
   "source": [
    "import numpy as np\n",
    "from scipy.stats import ttest_ind"
   ]
  },
  {
   "cell_type": "code",
   "execution_count": null,
   "id": "c2e373e9",
   "metadata": {},
   "outputs": [],
   "source": [
    "exp_mean=[]\n",
    "exp_median=[]\n",
    "exp_max=[]\n",
    "imp_mean=[]\n",
    "imp_median=[]\n",
    "imp_max=[]\n",
    "for i in range(12):\n",
    "    exp_sam = exp.sample(n=100, replace=True)\n",
    "    imp_sam = imp.sample(n=100, replace= True)\n",
    "    exp_mean.append(np.nanmean(exp_sam[\"LikeCount\"]))\n",
    "    exp_median.append(np.nanmedian(exp_sam[\"LikeCount\"]))\n",
    "    exp_max.append(np.max(exp_sam[\"LikeCount\"]))\n",
    "    imp_mean.append(np.nanmean(imp_sam[\"LikeCount\"]))\n",
    "    imp_median.append(np.nanmedian(imp_sam[\"LikeCount\"]))\n",
    "    imp_max.append(np.max(imp_sam[\"LikeCount\"]))\n",
    "print(\"MEAN:  \",ttest_ind(exp_mean, imp_mean))\n",
    "print(\"MEDIAN:  \",ttest_ind(exp_median,imp_median))\n",
    "print(\"MAX:  \",ttest_ind(exp_max, imp_max))"
   ]
  },
  {
   "cell_type": "code",
   "execution_count": null,
   "id": "7ac0695e",
   "metadata": {},
   "outputs": [],
   "source": [
    "exp_mean=[]\n",
    "exp_median=[]\n",
    "exp_max=[]\n",
    "imp_mean=[]\n",
    "imp_median=[]\n",
    "imp_max=[]\n",
    "for i in range(12):\n",
    "    exp_sam = exp.sample(n=100, replace=True)\n",
    "    imp_sam = imp.sample(n=100, replace= True)\n",
    "    exp_mean.append(np.nanmean(exp_sam[\"Retweets\"]))\n",
    "    exp_median.append(np.nanmedian(exp_sam[\"Retweets\"]))\n",
    "    exp_max.append(np.max(exp_sam[\"Retweets\"]))\n",
    "    imp_mean.append(np.nanmean(imp_sam[\"Retweets\"]))\n",
    "    imp_median.append(np.nanmedian(imp_sam[\"Retweets\"]))\n",
    "    imp_max.append(np.max(imp_sam[\"Retweets\"]))\n",
    "print(\"MEAN:  \",ttest_ind(exp_mean, imp_mean))\n",
    "print(\"MEDIAN:  \",ttest_ind(exp_median,imp_median))\n",
    "print(\"MAX:  \",ttest_ind(exp_max, imp_max))"
   ]
  },
  {
   "cell_type": "code",
   "execution_count": null,
   "id": "78742f86",
   "metadata": {},
   "outputs": [],
   "source": []
  }
 ],
 "metadata": {
  "kernelspec": {
   "display_name": "base",
   "language": "python",
   "name": "base"
  },
  "language_info": {
   "codemirror_mode": {
    "name": "ipython",
    "version": 3
   },
   "file_extension": ".py",
   "mimetype": "text/x-python",
   "name": "python",
   "nbconvert_exporter": "python",
   "pygments_lexer": "ipython3",
   "version": "3.9.12"
  }
 },
 "nbformat": 4,
 "nbformat_minor": 5
}
