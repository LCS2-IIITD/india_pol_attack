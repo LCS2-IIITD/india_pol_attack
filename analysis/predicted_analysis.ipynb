{
 "cells": [
  {
   "cell_type": "code",
   "execution_count": null,
   "id": "453fc9a2",
   "metadata": {},
   "outputs": [],
   "source": [
    "import pandas as pd\n",
    "\n",
    "david_full = pd.read_csv(\"sarah_all_pol_only.csv\")\n",
    "sarah_col=\"prediction\"\n",
    "print(david_full[sarah_col].value_counts())\n",
    "enc_party = {'Azad Samaj Party':'ASP','Bhagwa Kranti Sena':'BKS','Rashtriya Janta Dal':'RJD',\n",
    "             'Rashtriya Lok Dal':'RLD','Shiromani Akali Dal':'SAD','Azad Samaj Partyno-':'ASP'}\n",
    "\n",
    "david_full['Party'] = david_full['Party'].apply(lambda x: enc_party[x] if x in enc_party else x)"
   ]
  },
  {
   "cell_type": "code",
   "execution_count": null,
   "id": "36baaddb",
   "metadata": {},
   "outputs": [],
   "source": [
    "print(david_full[david_full['Post']==\"Party Handle\"][\"Party\"].unique())"
   ]
  },
  {
   "cell_type": "code",
   "execution_count": null,
   "id": "e7e5f088",
   "metadata": {},
   "outputs": [],
   "source": [
    "bjp = david_full[david_full['Party']==\"BJP\"]\n",
    "print(bjp[sarah_col].value_counts())\n",
    "hashtag_count={}\n",
    "word_count=0\n",
    "word=\"यूपीमांगेभाजपा\"\n",
    "for i in bjp[\"Text\"]:\n",
    "    words=i.split()\n",
    "    for w in words:\n",
    "        if w.startswith(\"#\"):\n",
    "            if w not in hashtag_count:\n",
    "                hashtag_count[w]=0\n",
    "            hashtag_count[w]+=1\n",
    "        if w==word:\n",
    "            word_count+=1"
   ]
  },
  {
   "cell_type": "code",
   "execution_count": null,
   "id": "97163481",
   "metadata": {},
   "outputs": [],
   "source": [
    "sp = david_full[david_full['Party']==\"SP\"]\n",
    "print(sp[sarah_col].value_counts())\n",
    "hashtag_count={}\n",
    "for i in sp[\"Text\"]:\n",
    "    words=i.split()\n",
    "    for w in words:\n",
    "        if w.startswith(\"#\"):\n",
    "            if w not in hashtag_count:\n",
    "                hashtag_count[w]=0\n",
    "            hashtag_count[w]+=1\n",
    "print(hashtag_count[\"#भाजपा_ख़त्म\"])"
   ]
  },
  {
   "cell_type": "code",
   "execution_count": null,
   "id": "89fb4e81",
   "metadata": {},
   "outputs": [],
   "source": [
    "bks = david_full[david_full['Party']==\"BKS\"]\n",
    "print(bks[sarah_col].value_counts())"
   ]
  },
  {
   "cell_type": "code",
   "execution_count": null,
   "id": "8133a7d7",
   "metadata": {},
   "outputs": [],
   "source": [
    "david_full[\"Party\"].value_counts()"
   ]
  },
  {
   "cell_type": "code",
   "execution_count": null,
   "id": "cfd911e3",
   "metadata": {},
   "outputs": [],
   "source": [
    "david_full[\"Post\"].value_counts()"
   ]
  },
  {
   "cell_type": "code",
   "execution_count": null,
   "id": "1eb9bd12",
   "metadata": {},
   "outputs": [],
   "source": [
    "import numpy as np\n",
    "bjp=david_full[david_full[\"Party\"]==\"BJP\"]\n",
    "print(np.nanmean(bjp[\"Retweets\"]),np.nanmean(bjp[\"LikeCount\"]))"
   ]
  },
  {
   "cell_type": "code",
   "execution_count": null,
   "id": "bc4469ae",
   "metadata": {},
   "outputs": [],
   "source": [
    "inc=david_full[david_full[\"Party\"]==\"INC\"]\n",
    "print(np.nanmean(inc[\"Retweets\"]),np.nanmean(inc[\"LikeCount\"]))"
   ]
  },
  {
   "cell_type": "code",
   "execution_count": null,
   "id": "f96a8b2a",
   "metadata": {},
   "outputs": [],
   "source": [
    "sp=david_full[david_full[\"Party\"]==\"SP\"]\n",
    "print(np.nanmean(sp[\"Retweets\"]),np.nanmean(sp[\"LikeCount\"]))"
   ]
  },
  {
   "cell_type": "code",
   "execution_count": null,
   "id": "3a921e3d",
   "metadata": {},
   "outputs": [],
   "source": [
    "app=david_full[david_full[\"Party\"]==\"AAP\"]\n",
    "print(np.nanmean(app[\"Retweets\"]),np.nanmean(app[\"LikeCount\"]))"
   ]
  },
  {
   "cell_type": "code",
   "execution_count": null,
   "id": "aba409e6",
   "metadata": {},
   "outputs": [],
   "source": [
    "import numpy as np\n",
    "exp = david_full[david_full[sarah_col]==2]\n",
    "print(exp.shape)\n",
    "print(np.max(exp[\"Retweets\"]),np.max(exp[\"LikeCount\"]))"
   ]
  },
  {
   "cell_type": "code",
   "execution_count": null,
   "id": "55dce1ff",
   "metadata": {},
   "outputs": [],
   "source": [
    "imp = david_full[david_full[sarah_col]==1]\n",
    "print(imp.shape)\n",
    "print(np.max(imp[\"Retweets\"]),np.max(imp[\"LikeCount\"]))"
   ]
  },
  {
   "cell_type": "code",
   "execution_count": null,
   "id": "f1589b84",
   "metadata": {},
   "outputs": [],
   "source": [
    "import numpy as np\n",
    "from scipy.stats import ttest_ind"
   ]
  },
  {
   "cell_type": "code",
   "execution_count": null,
   "id": "0f40b98a",
   "metadata": {},
   "outputs": [],
   "source": [
    "exp_mean=[]\n",
    "exp_median=[]\n",
    "exp_max=[]\n",
    "imp_mean=[]\n",
    "imp_median=[]\n",
    "imp_max=[]\n",
    "for i in range(12):\n",
    "    exp_sam = exp.sample(n=1000, replace=True)\n",
    "    imp_sam = imp.sample(n=1000, replace= True)\n",
    "    exp_mean.append(np.nanmean(exp_sam[\"LikeCount\"]))\n",
    "    exp_median.append(np.nanmedian(exp_sam[\"LikeCount\"]))\n",
    "    exp_max.append(np.max(exp_sam[\"LikeCount\"]))\n",
    "    imp_mean.append(np.nanmean(imp_sam[\"LikeCount\"]))\n",
    "    imp_median.append(np.nanmedian(imp_sam[\"LikeCount\"]))\n",
    "    imp_max.append(np.max(imp_sam[\"LikeCount\"]))\n",
    "print(\"MEAN:  \",ttest_ind(exp_mean, imp_mean))\n",
    "print(\"MEDIAN:  \",ttest_ind(exp_median,imp_median))\n",
    "print(\"MAX:  \",ttest_ind(exp_max, imp_max))"
   ]
  },
  {
   "cell_type": "code",
   "execution_count": null,
   "id": "0482198e",
   "metadata": {},
   "outputs": [],
   "source": [
    "exp_mean=[]\n",
    "exp_median=[]\n",
    "exp_max=[]\n",
    "imp_mean=[]\n",
    "imp_median=[]\n",
    "imp_max=[]\n",
    "for i in range(12):\n",
    "    exp_sam = exp.sample(n=1000, replace=True)\n",
    "    imp_sam = imp.sample(n=1000, replace= True)\n",
    "    exp_mean.append(np.nanmean(exp_sam[\"Retweets\"]))\n",
    "    exp_median.append(np.nanmedian(exp_sam[\"Retweets\"]))\n",
    "    exp_max.append(np.max(exp_sam[\"Retweets\"]))\n",
    "    imp_mean.append(np.nanmean(imp_sam[\"Retweets\"]))\n",
    "    imp_median.append(np.nanmedian(imp_sam[\"Retweets\"]))\n",
    "    imp_max.append(np.max(imp_sam[\"Retweets\"]))\n",
    "print(\"MEAN:  \",ttest_ind(exp_mean, imp_mean))\n",
    "print(\"MEDIAN:  \",ttest_ind(exp_median,imp_median))\n",
    "print(\"MAX:  \",ttest_ind(exp_max, imp_max))"
   ]
  }
 ],
 "metadata": {
  "kernelspec": {
   "display_name": "base",
   "language": "python",
   "name": "base"
  },
  "language_info": {
   "codemirror_mode": {
    "name": "ipython",
    "version": 3
   },
   "file_extension": ".py",
   "mimetype": "text/x-python",
   "name": "python",
   "nbconvert_exporter": "python",
   "pygments_lexer": "ipython3",
   "version": "3.9.12"
  }
 },
 "nbformat": 4,
 "nbformat_minor": 5
}
